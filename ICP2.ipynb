{
 "cells": [
  {
   "cell_type": "code",
   "execution_count": 1,
   "id": "2983fbc3-aeee-4f71-8aae-8ae8ae3238e9",
   "metadata": {},
   "outputs": [
    {
     "name": "stdin",
     "output_type": "stream",
     "text": [
      "Enter your first name:  Kushal\n",
      "Enter your last name:  Nivas\n"
     ]
    },
    {
     "name": "stdout",
     "output_type": "stream",
     "text": [
      "Full Name: Kushal Nivas\n",
      "Every other character in the full name: Ksa ia\n"
     ]
    }
   ],
   "source": [
    "def fullname(first_name, last_name):\n",
    "    full_name = first_name + \" \" + last_name\n",
    "    return full_name\n",
    "\n",
    "def string_alternative(full_name):\n",
    "    return full_name[::2]\n",
    "\n",
    "def main():\n",
    "    first_name = input(\"Enter your first name: \")\n",
    "    last_name = input(\"Enter your last name: \")\n",
    "    \n",
    "    full_name = fullname(first_name, last_name)\n",
    "    print(\"Full Name:\", full_name)\n",
    "\n",
    "    alternate_string = string_alternative(full_name)\n",
    "    print(\"Every other character in the full name:\", alternate_string)\n",
    "\n",
    "if \"main\":\n",
    "    main()"
   ]
  },
  {
   "cell_type": "code",
   "execution_count": 2,
   "id": "4f3c9c9a-1120-41f2-9e8c-c7aa73bed20f",
   "metadata": {},
   "outputs": [
    {
     "name": "stdout",
     "output_type": "stream",
     "text": [
      "Python Course\n",
      "Deep Learning Course\n",
      "\n",
      "Word_Count:\n",
      "Python: 1\n",
      "Course: 2\n",
      "Deep: 1\n",
      "Learning: 1\n"
     ]
    }
   ],
   "source": [
    "def count_words_in_file(input_file):\n",
    "    word_count = {}\n",
    "    lines = []\n",
    "\n",
    "    with open(input_file, 'r') as infile:\n",
    "        for line in infile:\n",
    "            lines.append(line.strip())\n",
    "            words = line.split()\n",
    "            for word in words:\n",
    "                if word in word_count:\n",
    "                    word_count[word] += 1\n",
    "                else:\n",
    "                    word_count[word] = 1\n",
    "\n",
    "    return lines, word_count\n",
    "\n",
    "def write_output(output_file, lines, word_count):\n",
    "    with open(output_file, 'w') as outfile:\n",
    "        for line in lines:\n",
    "            outfile.write(line + '\\n')\n",
    "        outfile.write('\\nWord_Count:\\n')\n",
    "        for word, count in word_count.items():\n",
    "            outfile.write(f\"{word}: {count}\\n\")\n",
    "\n",
    "def print_output(lines, word_count):\n",
    "    for line in lines:\n",
    "        print(line)\n",
    "    print(\"\\nWord_Count:\")\n",
    "    for word, count in word_count.items():\n",
    "        print(f\"{word}: {count}\")\n",
    "\n",
    "def main():\n",
    "    input_file = 'input.txt'\n",
    "    output_file = 'output.txt'\n",
    "\n",
    "    lines, word_count = count_words_in_file(input_file)\n",
    "    print_output(lines, word_count)\n",
    "    write_output(output_file, lines, word_count)\n",
    "\n",
    "if \"_main_\":\n",
    "    main()"
   ]
  },
  {
   "cell_type": "code",
   "execution_count": 3,
   "id": "0ecef002-e32c-46c7-9a1b-e9fc4ad8c42c",
   "metadata": {},
   "outputs": [
    {
     "name": "stdout",
     "output_type": "stream",
     "text": [
      "Heights (in inches): [150, 155, 145, 148]\n",
      "Heights in Centimeters (using nested loops): [381.0, 393.7, 368.3, 375.92]\n"
     ]
    }
   ],
   "source": [
    "def convert_to_cm_nested(heights_inches):\n",
    "    heights_cm = []\n",
    "    for height in heights_inches:\n",
    "        height_cm = height * 2.54\n",
    "        heights_cm.append(round(height_cm, 2))\n",
    "    return heights_cm\n",
    "\n",
    "def main():\n",
    "    heights_inches = [150, 155, 145, 148]\n",
    "\n",
    "    heights_cm_nested = convert_to_cm_nested(heights_inches)\n",
    "\n",
    "    print(\"Heights (in inches):\", heights_inches)\n",
    "    print(\"Heights in Centimeters (using nested loops):\", heights_cm_nested)\n",
    "\n",
    "if \"main\":\n",
    "    main()"
   ]
  },
  {
   "cell_type": "code",
   "execution_count": 4,
   "id": "08405b7f-3e69-4be0-9786-29ebcacbf5ae",
   "metadata": {},
   "outputs": [
    {
     "name": "stdout",
     "output_type": "stream",
     "text": [
      "Heights (in inches): [150, 155, 145, 148]\n",
      "Heights in Centimeters (using list comprehension): [381.0, 393.7, 368.3, 375.92]\n"
     ]
    }
   ],
   "source": [
    "def convert_to_cm_list_comprehension(heights_inches):\n",
    "    heights_cm = [round(height * 2.54, 2) for height in heights_inches]\n",
    "    return heights_cm\n",
    "\n",
    "def main():\n",
    "    heights_inches = [150, 155, 145, 148]\n",
    "\n",
    "    heights_cm_lc = convert_to_cm_list_comprehension(heights_inches)\n",
    "\n",
    "    print(\"Heights (in inches):\", heights_inches)\n",
    "    print(\"Heights in Centimeters (using list comprehension):\", heights_cm_lc)\n",
    "\n",
    "if \"main\":\n",
    "    main()"
   ]
  },
  {
   "cell_type": "code",
   "execution_count": null,
   "id": "ebfffd8e-762d-4322-bef6-f6a2c917eae7",
   "metadata": {},
   "outputs": [],
   "source": []
  }
 ],
 "metadata": {
  "kernelspec": {
   "display_name": "Python 3 (ipykernel)",
   "language": "python",
   "name": "python3"
  },
  "language_info": {
   "codemirror_mode": {
    "name": "ipython",
    "version": 3
   },
   "file_extension": ".py",
   "mimetype": "text/x-python",
   "name": "python",
   "nbconvert_exporter": "python",
   "pygments_lexer": "ipython3",
   "version": "3.11.7"
  }
 },
 "nbformat": 4,
 "nbformat_minor": 5
}
